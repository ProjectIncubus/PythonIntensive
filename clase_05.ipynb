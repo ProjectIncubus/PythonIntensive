{
 "cells": [
  {
   "attachments": {},
   "cell_type": "markdown",
   "metadata": {},
   "source": [
    "### Funciones\n",
    "\n",
    "En Python, una función es un bloque de código reutilizable que realiza una tarea específica. Las funciones se utilizan para dividir el código en piezas más pequeñas y manejables, lo que facilita la organización, la reutilización y el mantenimiento del código.\n",
    "\n",
    "Una función en Python se define utilizando la palabra clave def, seguida del nombre de la función y paréntesis que pueden contener los argumentos de la función. Los argumentos son los valores que la función puede recibir para realizar su tarea. Después de los paréntesis, se utiliza dos puntos para indicar el inicio del bloque de código de la función, que se define mediante sangría.\n",
    "\n",
    "Aquí tienes un ejemplo básico de cómo se define y utiliza una función en Python:"
   ]
  },
  {
   "cell_type": "code",
   "execution_count": 1,
   "metadata": {},
   "outputs": [],
   "source": [
    "def holamundo(): \n",
    "    print('Hola, mundo.') # Esta función nos imprimirá en pantalla \"Hola, mundo.\"\n",
    "                          # cada vez que la llamemos."
   ]
  },
  {
   "cell_type": "code",
   "execution_count": 15,
   "metadata": {},
   "outputs": [
    {
     "name": "stdout",
     "output_type": "stream",
     "text": [
      "Hola, mundo.\n",
      "Hola, mundo.\n",
      "Hola, mundo.\n"
     ]
    }
   ],
   "source": [
    "# Llamamos la función.\n",
    "holamundo()\n",
    "holamundo()\n",
    "holamundo()"
   ]
  },
  {
   "cell_type": "code",
   "execution_count": 3,
   "metadata": {},
   "outputs": [],
   "source": [
    "# Las funciones pueden tener o no argumentos, en este caso la función\n",
    "# promedio_tres_numeros exige 3 argumentos: a, b, y c.\n",
    "def promedio_tres_numeros(a, b, c):\n",
    "    promedio = (a+b+c)/3 # Dentro de la función podemos decidir qué hacer\n",
    "                         # con esos argumentos.\n",
    "                         # Aqui los estamos usando para sumarlos y dividirlos\n",
    "                         # entre 3 y asignarlos a una variable llamada \"promedio\".\n",
    "    print(promedio) # La función imprimirá esta variable \"promedio\" cada ves que\n",
    "                    # la mandemos llamar."
   ]
  },
  {
   "cell_type": "code",
   "execution_count": 16,
   "metadata": {},
   "outputs": [
    {
     "name": "stdout",
     "output_type": "stream",
     "text": [
      "6.666666666666667\n",
      "6.666666666666667\n",
      "2.6666666666666665\n"
     ]
    }
   ],
   "source": [
    "# Aquí llamaremos la función tres veces con diferentes argumentos.\n",
    "promedio_tres_numeros(5, 6, 9)\n",
    "promedio_tres_numeros(2, 9, 9)\n",
    "promedio_tres_numeros(1, 3, 4)"
   ]
  },
  {
   "cell_type": "code",
   "execution_count": 7,
   "metadata": {},
   "outputs": [],
   "source": [
    "# ¿Qué pasa si en vez de solo imprimir en pantalla queremos que la función\n",
    "# nos devuelva un valor? Para eso usamos la palabra reservada \"return\".\n",
    "def sqrt(numero): # Esta función pide como argumento un número y devolverá\n",
    "                  # la raíz cuadrada de ese número.\n",
    "    return numero ** (1/2) # Con return devolvemos el resultado, así lo podremos\n",
    "                           # usar para asignarlo a otra variable, o hacer lo que\n",
    "                           # necesitemos."
   ]
  },
  {
   "cell_type": "code",
   "execution_count": 17,
   "metadata": {},
   "outputs": [
    {
     "name": "stdout",
     "output_type": "stream",
     "text": [
      "5.0\n"
     ]
    }
   ],
   "source": [
    "x = sqrt(25) # Por ejemplo, aqui llamamos la función que creamos para\n",
    "             # obtener la raíz cuadrada de 25 y la asignamos a la variable \"x\".\n",
    "\n",
    "print(x) # Ya después podemos hacer lo que queramos con esa variable, en este\n",
    "         # caso la imprimiremos."
   ]
  },
  {
   "attachments": {},
   "cell_type": "markdown",
   "metadata": {},
   "source": [
    "### Ejercicio: piedra, papel, tijera, lagarto, spock.\n",
    "\n",
    "* Crea una función llamada pptls que tome un parámetro llamado juegos. Este parámetro debe ser una lista de tuplas, donde cada tupla representa un juego entre dos jugadores. Cada tupla debe contener las elecciones de ambos jugadores en forma de emojis. Por ejemplo, un juego válido sería ('✂️', '🖖').\n",
    "\n",
    "* Dentro de la función pptls, crea un diccionario llamado reglas. Este diccionario representará las reglas del juego y las combinaciones ganadoras. Cada clave del diccionario será un emoji, y su valor será una lista de los emojis que puede vencer. Asegúrate de definir todas las combinaciones posibles según las reglas del juego.\n",
    "\n",
    "* Inicializa las variables jugador_1 y jugador_2 con un valor de 0. Estas variables contarán el número de victorias para cada jugador.\n",
    "\n",
    "* Utiliza un bucle for para iterar sobre cada juego en la lista juegos. Dentro del bucle, obtén las elecciones de los jugadores utilizando la sintaxis de indexación de tuplas.\n",
    "\n",
    "* Compara las elecciones de los jugadores para determinar el resultado del juego. Si las elecciones son diferentes, verifica si la elección del jugador 2 está en la lista de elecciones ganadoras para la elección del jugador 1 en el diccionario reglas. Si es así, incrementa en 1 la variable jugador_1; de lo contrario, incrementa en 1 la variable jugador_2.\n",
    "\n",
    "* Después de que el bucle haya terminado, utiliza una declaración return para devolver el resultado del juego. Si jugador_1 y jugador_2 tienen el mismo puntaje, devuelve 'Empate'. Si jugador_1 tiene un puntaje mayor, devuelve 'Jugador 1'. Si jugador_2 tiene un puntaje mayor, devuelve 'Jugador 2'.\n",
    "\n",
    "¡Una vez que hayas implementado todas estas instrucciones, podrás llamar a la función pptls y pasarle una lista de juegos para obtener el resultado del juego Piedra, Papel, Tijeras, Lagarto, Spock según las reglas establecidas!"
   ]
  },
  {
   "cell_type": "code",
   "execution_count": 10,
   "metadata": {},
   "outputs": [],
   "source": [
    "def pptls(juegos): # Juegos [('✂️','🖖'), ('🦎','📜')]\n",
    "\n",
    "    reglas = {\n",
    "        '🗿':['✂️','🦎'],\n",
    "        '📜':['🗿','🖖'],\n",
    "        '✂️':['📜','🦎'],\n",
    "        '🦎':['🖖','📜'],\n",
    "        '🖖':['✂️','🗿']\n",
    "    }\n",
    "\n",
    "    jugador_1 = 0\n",
    "    jugador_2 = 0\n",
    "\n",
    "    for juego in juegos:\n",
    "        eleccion_de_jugador_1 = juego[0]\n",
    "        eleccion_de_jugador_2 = juego[1]\n",
    "\n",
    "        if eleccion_de_jugador_1 != eleccion_de_jugador_2:\n",
    "            if eleccion_de_jugador_2 in reglas[eleccion_de_jugador_1]:\n",
    "                jugador_1 += 1\n",
    "            else:\n",
    "                jugador_2 += 1\n",
    "    \n",
    "    return 'Empate' if jugador_1 == jugador_2 else 'Jugador 1' if jugador_1 > jugador_2 else 'Jugador 2'\n"
   ]
  },
  {
   "attachments": {},
   "cell_type": "markdown",
   "metadata": {},
   "source": [
    "Ahora probemos con algunos ejemplos de juego:"
   ]
  },
  {
   "cell_type": "code",
   "execution_count": 14,
   "metadata": {},
   "outputs": [
    {
     "name": "stdout",
     "output_type": "stream",
     "text": [
      "Empate\n",
      "Jugador 1\n",
      "Jugador 2\n",
      "Jugador 1\n"
     ]
    }
   ],
   "source": [
    "print(pptls([('🗿','🗿')]))\n",
    "print(pptls([(\"🗿\", \"✂️\")]))\n",
    "print(pptls([(\"✂️\",\"🗿\")]))\n",
    "\n",
    "print(pptls([(\"🖖\", \"🗿\"), (\"✂️\", \"📄\"), (\"🗿\", \"🗿\"), (\"🦎\", \"🖖\")]))"
   ]
  }
 ],
 "metadata": {
  "kernelspec": {
   "display_name": "Python 3",
   "language": "python",
   "name": "python3"
  },
  "language_info": {
   "codemirror_mode": {
    "name": "ipython",
    "version": 3
   },
   "file_extension": ".py",
   "mimetype": "text/x-python",
   "name": "python",
   "nbconvert_exporter": "python",
   "pygments_lexer": "ipython3",
   "version": "3.11.1"
  },
  "orig_nbformat": 4
 },
 "nbformat": 4,
 "nbformat_minor": 2
}
