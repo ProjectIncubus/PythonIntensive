{
 "cells": [
  {
   "attachments": {},
   "cell_type": "markdown",
   "metadata": {},
   "source": [
    "## Estructuras de datos\n",
    "\n",
    "### Listas\n",
    "\n",
    "En Python, una lista es una colección ordenada y mutable de elementos. Puedes almacenar diferentes tipos de datos en una lista, como números, cadenas de texto e incluso otras listas."
   ]
  },
  {
   "cell_type": "code",
   "execution_count": 64,
   "metadata": {},
   "outputs": [
    {
     "name": "stdout",
     "output_type": "stream",
     "text": [
      "<class 'list'>\n"
     ]
    }
   ],
   "source": [
    "mi_lista = list() # Esta es una forma de definir una lista con su palabra reservada.\n",
    "otra_lista = [] # Esta es otra forma usando corchetes.\n",
    "\n",
    "print(type(mi_lista))"
   ]
  },
  {
   "cell_type": "code",
   "execution_count": 65,
   "metadata": {},
   "outputs": [
    {
     "name": "stdout",
     "output_type": "stream",
     "text": [
      "[]\n",
      "[1, 2.95, 3, 4.01, 5, 6, 'hola', 'mundo', True, False]\n"
     ]
    }
   ],
   "source": [
    "mi_lista_1 = [1, 2, 3, 4, 5, 6] # Los elementos de la lista se separan con comas.\n",
    "print(mi_lista)\n",
    "\n",
    "mi_lista = [1, 2.95, 3, 4.01, 5, 6, \"hola\", \"mundo\", True, False] # Al ser una estructura de datos, la lista admite todos los tipos de datos que hemos visto.\n",
    "print(mi_lista)"
   ]
  },
  {
   "cell_type": "code",
   "execution_count": 66,
   "metadata": {},
   "outputs": [
    {
     "name": "stdout",
     "output_type": "stream",
     "text": [
      "10\n",
      "<class 'list'>\n"
     ]
    }
   ],
   "source": [
    "print(len(mi_lista)) # Len para saber la cantidad de elementos de la lista.\n",
    "print(type(mi_lista))"
   ]
  },
  {
   "cell_type": "code",
   "execution_count": 67,
   "metadata": {},
   "outputs": [
    {
     "name": "stdout",
     "output_type": "stream",
     "text": [
      "Gus\n",
      "Lopez\n",
      "28\n",
      "1.83\n",
      "1.83\n",
      "28\n"
     ]
    }
   ],
   "source": [
    "lista_datos = ['Gus', 'Lopez', 28, 1.83]\n",
    "\n",
    "# Acceder a un elemento de la lista\n",
    "\n",
    "print(lista_datos[0]) # Los elementos de una lista se acceden por su índice\n",
    "print(lista_datos[1]) # Los índices empiezan en 0\n",
    "print(lista_datos[2])\n",
    "print(lista_datos[3])\n",
    "\n",
    "print(lista_datos[-1]) # Acceder al último elemento de la lista\n",
    "print(lista_datos[-2]) # Acceder al penúltimo elemento de la lista"
   ]
  },
  {
   "cell_type": "code",
   "execution_count": 68,
   "metadata": {},
   "outputs": [
    {
     "name": "stdout",
     "output_type": "stream",
     "text": [
      "Gus\n",
      "Lopez\n",
      "28\n",
      "1.83\n"
     ]
    }
   ],
   "source": [
    "nombre, apellido, edad, estatura = lista_datos # Desempaquetado de lista. Funciona igual que desempaquetar una cadena de caracteres.\n",
    "\n",
    "print(nombre)\n",
    "print(apellido)\n",
    "print(edad)\n",
    "print(estatura)"
   ]
  },
  {
   "cell_type": "code",
   "execution_count": 69,
   "metadata": {},
   "outputs": [
    {
     "name": "stdout",
     "output_type": "stream",
     "text": [
      "['Gus', 'Lopez', 28, 1.83, 'Python']\n",
      "['Gus', 'Lopez', 28, 1.83, 'Python', True]\n"
     ]
    }
   ],
   "source": [
    "# Con .append() añadimos el elemento indicado al final de la lista.\n",
    "lista_datos.append('Python')\n",
    "print(lista_datos)\n",
    "lista_datos.append(True)\n",
    "print(lista_datos)\n"
   ]
  },
  {
   "cell_type": "code",
   "execution_count": 70,
   "metadata": {},
   "outputs": [
    {
     "name": "stdout",
     "output_type": "stream",
     "text": [
      "['Gus', 'Lopez', 28, 1.83, True]\n"
     ]
    }
   ],
   "source": [
    "lista_datos.remove('Python') # Remove quita la primer ocurrencia dentro del argumento de .remove()\n",
    "print(lista_datos)"
   ]
  },
  {
   "cell_type": "code",
   "execution_count": 72,
   "metadata": {},
   "outputs": [
    {
     "name": "stdout",
     "output_type": "stream",
     "text": [
      "['Gus', 'Lopez', 28, 1.83]\n"
     ]
    }
   ],
   "source": [
    "lista_datos.pop(4) # Quita el elemento en el indice dentro de .pop()\n",
    "print(lista_datos)"
   ]
  },
  {
   "cell_type": "code",
   "execution_count": 73,
   "metadata": {},
   "outputs": [
    {
     "name": "stdout",
     "output_type": "stream",
     "text": [
      "['Gus', 'Lopez', 'ProjectIncubus', 28, 1.83]\n"
     ]
    }
   ],
   "source": [
    "# Con .insert() añadimos en el índice específicado, el elemento especificado.\n",
    "lista_datos.insert(2, 'ProjectIncubus')\n",
    "print(lista_datos)"
   ]
  },
  {
   "cell_type": "code",
   "execution_count": 74,
   "metadata": {},
   "outputs": [
    {
     "name": "stdout",
     "output_type": "stream",
     "text": [
      "ProjectIncubus\n"
     ]
    }
   ],
   "source": [
    "# Además de borrar el elemento, .pop() nos da la oportunidad de retornarlo, en caso de querer guardarlo.\n",
    "alias_borrado = lista_datos.pop(2)\n",
    "print(alias_borrado)"
   ]
  },
  {
   "cell_type": "code",
   "execution_count": 75,
   "metadata": {},
   "outputs": [
    {
     "name": "stdout",
     "output_type": "stream",
     "text": [
      "['Lopez', 28, 1.83]\n"
     ]
    }
   ],
   "source": [
    "del lista_datos[0] # Del borra todo lo que este indicado, PARA SIEMPREEE.\n",
    "\n",
    "print(lista_datos)"
   ]
  },
  {
   "cell_type": "code",
   "execution_count": 76,
   "metadata": {},
   "outputs": [
    {
     "name": "stdout",
     "output_type": "stream",
     "text": [
      "[1.83, 28, 'Lopez']\n"
     ]
    }
   ],
   "source": [
    "# Con .reverse() invertimos la lista.\n",
    "lista_datos.reverse()\n",
    "print(lista_datos)"
   ]
  },
  {
   "cell_type": "code",
   "execution_count": 79,
   "metadata": {},
   "outputs": [
    {
     "name": "stdout",
     "output_type": "stream",
     "text": [
      "[6, 5, 4, 3, 2, 1]\n"
     ]
    }
   ],
   "source": [
    "mi_lista_1.reverse()\n",
    "print(mi_lista_1)"
   ]
  },
  {
   "cell_type": "code",
   "execution_count": 80,
   "metadata": {},
   "outputs": [
    {
     "name": "stdout",
     "output_type": "stream",
     "text": [
      "[1, 2, 3, 4, 5, 6]\n"
     ]
    }
   ],
   "source": [
    "# Con .sort() la ordenamos de manera ascendente.\n",
    "mi_lista_1.sort()\n",
    "print(mi_lista_1)"
   ]
  },
  {
   "cell_type": "code",
   "execution_count": 81,
   "metadata": {},
   "outputs": [
    {
     "name": "stdout",
     "output_type": "stream",
     "text": [
      "[6, 5, 4, 3, 2, 1]\n"
     ]
    }
   ],
   "source": [
    "mi_lista_1.sort(reverse=True) # Ordena decendente\n",
    "print(mi_lista_1)"
   ]
  },
  {
   "cell_type": "code",
   "execution_count": 82,
   "metadata": {},
   "outputs": [
    {
     "name": "stdout",
     "output_type": "stream",
     "text": [
      "[23, 123, 15415, 15]\n"
     ]
    }
   ],
   "source": [
    "# A veces, cuando trabajamos con alguna estructura de datos, podemos modificarla para siempre,\n",
    "# así que es bastante útil realizar una copia y mantener la original.\n",
    "nueva_lista = [23, 123, 15415, 15]\n",
    "copia_lista = nueva_lista.copy() # Copia de listas.\n",
    "\n",
    "print(copia_lista)"
   ]
  },
  {
   "attachments": {},
   "cell_type": "markdown",
   "metadata": {},
   "source": [
    "### Tuplas\n",
    "\n",
    "En Python, una tupla es una colección ordenada e inmutable de elementos. A diferencia de las listas, las tuplas no se pueden modificar una vez creadas, lo que significa que no puedes agregar, eliminar o modificar elementos individualmente."
   ]
  },
  {
   "cell_type": "code",
   "execution_count": 85,
   "metadata": {},
   "outputs": [
    {
     "name": "stdout",
     "output_type": "stream",
     "text": [
      "<class 'tuple'>\n"
     ]
    }
   ],
   "source": [
    "mi_tupla = tuple() # Se pueden definir con su palabra reservada.\n",
    "otra_tupla = () # O con paréntesis.\n",
    "\n",
    "print(type(mi_tupla))"
   ]
  },
  {
   "cell_type": "code",
   "execution_count": 86,
   "metadata": {},
   "outputs": [
    {
     "name": "stdout",
     "output_type": "stream",
     "text": [
      "(28, 1.83, 'Gus', 'Lopez')\n"
     ]
    }
   ],
   "source": [
    "mi_tupla = (28, 1.83, 'Gus', 'Lopez')\n",
    "otra_tupla = (35, 60, 15)\n",
    "\n",
    "print(mi_tupla)"
   ]
  },
  {
   "cell_type": "code",
   "execution_count": 87,
   "metadata": {},
   "outputs": [
    {
     "name": "stdout",
     "output_type": "stream",
     "text": [
      "28\n",
      "1.83\n",
      "Gus\n"
     ]
    }
   ],
   "source": [
    "# Accedemos a los elementos de la tupla como con las listas, con corchetes y con el índice.\n",
    "# Recordemos que Python usa el índice cero como primer elemento.\n",
    "print(mi_tupla[0])\n",
    "print(mi_tupla[1]) \n",
    "print(mi_tupla[2])"
   ]
  },
  {
   "cell_type": "code",
   "execution_count": 88,
   "metadata": {},
   "outputs": [
    {
     "name": "stdout",
     "output_type": "stream",
     "text": [
      "(28, 1.83, 'Gus', 'Lopez', 35, 60, 15)\n"
     ]
    }
   ],
   "source": [
    "tupla_concatenada = mi_tupla + otra_tupla # Podemos juntar tuplas, es decir, concatenarlas.\n",
    "print(tupla_concatenada)"
   ]
  },
  {
   "cell_type": "code",
   "execution_count": 89,
   "metadata": {},
   "outputs": [],
   "source": [
    "# mi_tupla[1] = 1.60 # Las tuplas no son mutables, es decir, no podemos sobreescribir lo que hay en alguna de sus ubicaciones."
   ]
  },
  {
   "attachments": {},
   "cell_type": "markdown",
   "metadata": {},
   "source": [
    "### Sets"
   ]
  },
  {
   "cell_type": "code",
   "execution_count": 90,
   "metadata": {},
   "outputs": [
    {
     "name": "stdout",
     "output_type": "stream",
     "text": [
      "<class 'set'>\n",
      "<class 'dict'>\n"
     ]
    }
   ],
   "source": [
    "mi_set = set() # Se pueden definir con su palabra reservada.\n",
    "otro_set = {} # También con llaves.\n",
    "\n",
    "print(type(mi_set))\n",
    "print(type(otro_set)) # ¿Por qué aquí me dice que el set que definimos con llaves\n",
    "                      # es un diccionario?\n",
    "\n",
    "# Resulta que, como veremos adelante, las llaves también nos sirven para\n",
    "# definir diccionarios."
   ]
  },
  {
   "cell_type": "code",
   "execution_count": 91,
   "metadata": {},
   "outputs": [
    {
     "name": "stdout",
     "output_type": "stream",
     "text": [
      "{'Gus', 28, 'Lopez'}\n",
      "<class 'set'>\n"
     ]
    }
   ],
   "source": [
    "# Si nosotros llenamos lo que antes era un diccionario de la siguiente forma,\n",
    "# Python entenderá que se trata de un set, no de un diccionario, ya que el\n",
    "# diccionario tiene otro tipo de sintaxis.\n",
    "otro_set = {'Gus', 'Lopez', 28, 28} # Set es una estructura no ordenada y no admite repeticiones.\n",
    "print(otro_set)\n",
    "print(type(otro_set))"
   ]
  },
  {
   "cell_type": "code",
   "execution_count": 92,
   "metadata": {},
   "outputs": [
    {
     "name": "stdout",
     "output_type": "stream",
     "text": [
      "{'ProjectIncubus', 'Gus', 28, 'Lopez'}\n"
     ]
    }
   ],
   "source": [
    "otro_set.add('ProjectIncubus')\n",
    "print(otro_set)"
   ]
  },
  {
   "cell_type": "code",
   "execution_count": 94,
   "metadata": {},
   "outputs": [
    {
     "name": "stdout",
     "output_type": "stream",
     "text": [
      "True\n"
     ]
    }
   ],
   "source": [
    "print('Gus' in otro_set) # Busquedas en set.\n",
    "# Lo podemos entender como >> ¿está \"Gus\" EN otro_set?\n",
    "# Como la respuesta es una afirmación o una negación, nos devuelve un booleano.\n",
    "# Esa busqueda solo va a estar 1 vez, ya que el set no admite repeticiones."
   ]
  },
  {
   "cell_type": "code",
   "execution_count": 95,
   "metadata": {},
   "outputs": [
    {
     "name": "stdout",
     "output_type": "stream",
     "text": [
      "{'ProjectIncubus', 'Gus', 28, 'Lopez'}\n"
     ]
    }
   ],
   "source": [
    "# Podemos usar .copy() para copiar sets.\n",
    "copia_set = otro_set.copy()\n",
    "print(copia_set)"
   ]
  },
  {
   "cell_type": "code",
   "execution_count": 96,
   "metadata": {},
   "outputs": [
    {
     "name": "stdout",
     "output_type": "stream",
     "text": [
      "set()\n"
     ]
    }
   ],
   "source": [
    "# El método .clear() borra todo lo que está dentro del set, pero no lo borra de la memoria.\n",
    "copia_set.clear()\n",
    "print(copia_set)"
   ]
  },
  {
   "cell_type": "code",
   "execution_count": 97,
   "metadata": {},
   "outputs": [],
   "source": [
    "# del copia_set\n",
    "# print(copia_set) # Del borra completamente el set y su ubicacion en la mememoria."
   ]
  },
  {
   "attachments": {},
   "cell_type": "markdown",
   "metadata": {},
   "source": [
    "### Diccionarios\n",
    "\n",
    "En Python, un diccionario es una estructura de datos que almacena pares de clave:valor. A diferencia de las listas y las tuplas, los diccionarios no están ordenados y se accede a los elementos mediante claves en lugar de índices. Cada clave en un diccionario debe ser única y se utiliza para buscar y acceder a su valor correspondiente."
   ]
  },
  {
   "cell_type": "code",
   "execution_count": 99,
   "metadata": {},
   "outputs": [
    {
     "name": "stdout",
     "output_type": "stream",
     "text": [
      "<class 'dict'>\n"
     ]
    }
   ],
   "source": [
    "mi_dict = dict() # Se pueden definir con su palabra reservada.\n",
    "otro_dict = {} # O con llaves.\n",
    "\n",
    "print(type(mi_dict))"
   ]
  },
  {
   "cell_type": "code",
   "execution_count": 100,
   "metadata": {},
   "outputs": [
    {
     "name": "stdout",
     "output_type": "stream",
     "text": [
      "{'nombre': 'Gus', 'apellido': 'Lopez', 'edad': 28, 'skills': ['Python', 'Matlab', 'C++', 'C#']}\n"
     ]
    }
   ],
   "source": [
    "# Aquí podemos ver cómo es la estructura de un diccionario.\n",
    "# Recomiendo esta sintaxis para más claridad, aunque puede ser\n",
    "# todo en horizontal.\n",
    "mi_dict = {\n",
    "    'nombre':'Gus',\n",
    "    'apellido':'Lopez',\n",
    "    'edad':28,\n",
    "    'skills':['Python', 'Matlab', 'C++', 'C#']\n",
    "}\n",
    "\n",
    "print(mi_dict)"
   ]
  },
  {
   "cell_type": "code",
   "execution_count": 101,
   "metadata": {},
   "outputs": [
    {
     "name": "stdout",
     "output_type": "stream",
     "text": [
      "4\n"
     ]
    }
   ],
   "source": [
    "print(len(mi_dict)) # La longitud del diccionario es el número de Keys (o claves)."
   ]
  },
  {
   "cell_type": "code",
   "execution_count": 102,
   "metadata": {},
   "outputs": [
    {
     "name": "stdout",
     "output_type": "stream",
     "text": [
      "Gus\n",
      "Lopez\n",
      "['Python', 'Matlab', 'C++', 'C#']\n"
     ]
    }
   ],
   "source": [
    "# Así accedemos al valor de cada Key.\n",
    "print(mi_dict['nombre'])\n",
    "print(mi_dict['apellido'])\n",
    "print(mi_dict['skills'])\n",
    "\n",
    "# print(mi_dict['alias']) # Manda error porque no hay una key que se llame 'alias'"
   ]
  },
  {
   "cell_type": "code",
   "execution_count": 103,
   "metadata": {},
   "outputs": [
    {
     "name": "stdout",
     "output_type": "stream",
     "text": [
      "Gus\n",
      "None\n"
     ]
    }
   ],
   "source": [
    "# Esta es otra forma de acceder al valor de una Key, la diferencia es que\n",
    "# si la Key no existe, nos regresa un \"None\".\n",
    "\n",
    "print(mi_dict.get('nombre')) # Con get nos aseguramos de obtener el valor de la entrada.\n",
    "print(mi_dict.get('alias')) # Si no existe dicha entrada, regresa un None."
   ]
  },
  {
   "cell_type": "code",
   "execution_count": 104,
   "metadata": {},
   "outputs": [
    {
     "name": "stdout",
     "output_type": "stream",
     "text": [
      "{'nombre': 'Gus', 'apellido': 'Lopez', 'edad': 28, 'skills': ['Python', 'Matlab', 'C++', 'C#'], 'alias': 'ProjectIncubus'}\n",
      "{'nombre': 'Gustavo', 'apellido': 'Lopez', 'edad': 28, 'skills': ['Python', 'Matlab', 'C++', 'C#'], 'alias': 'ProjectIncubus'}\n"
     ]
    }
   ],
   "source": [
    "# Si la Key no existe, esta es la forma de crearla y darle un valor.\n",
    "mi_dict['alias'] = 'ProjectIncubus' # Crea la Key \"alias\" y le da el valor \"ProjectIncubus\"\n",
    "print(mi_dict)\n",
    "\n",
    "mi_dict['nombre'] = 'Gustavo' # Si ya existe la entrada, la puedes reescribir, es decir, asignarle otro valor.\n",
    "print(mi_dict)"
   ]
  },
  {
   "cell_type": "code",
   "execution_count": 107,
   "metadata": {},
   "outputs": [
    {
     "name": "stdout",
     "output_type": "stream",
     "text": [
      "dict_items([('nombre', 'Gustavo'), ('apellido', 'Lopez'), ('edad', 28), ('skills', ['Python', 'Matlab', 'C++', 'C#']), ('alias', 'ProjectIncubus')])\n",
      "dict_keys(['nombre', 'apellido', 'edad', 'skills', 'alias'])\n",
      "dict_values(['Gustavo', 'Lopez', 28, ['Python', 'Matlab', 'C++', 'C#'], 'ProjectIncubus'])\n"
     ]
    }
   ],
   "source": [
    "# Algunos métodos interesantes con los diccionarios.\n",
    "\n",
    "print(mi_dict.items()) # Regresa todos los items en forma de una lista de tuplas. Aunque no es una lista de tuplas.\n",
    "print(mi_dict.keys()) # Regresa todas las Keys del diccionario.\n",
    "print(mi_dict.values()) # Regresa los valores de todas las Keys del diccionario."
   ]
  },
  {
   "cell_type": "code",
   "execution_count": 109,
   "metadata": {},
   "outputs": [
    {
     "name": "stdout",
     "output_type": "stream",
     "text": [
      "{'nombre': None, 'skills': None, 'alias': None}\n"
     ]
    }
   ],
   "source": [
    "# También podemos crear un nuevo diccionario con las Keys de otro ya existente.\n",
    "# Los valores de las llaves en este nuevo diccionario son None, pues aún no\n",
    "# se han asignado valores.\n",
    "my_new_dict = mi_dict.fromkeys(('nombre', 'skills', 'alias'))\n",
    "print(my_new_dict)"
   ]
  }
 ],
 "metadata": {
  "kernelspec": {
   "display_name": "Python 3",
   "language": "python",
   "name": "python3"
  },
  "language_info": {
   "codemirror_mode": {
    "name": "ipython",
    "version": 3
   },
   "file_extension": ".py",
   "mimetype": "text/x-python",
   "name": "python",
   "nbconvert_exporter": "python",
   "pygments_lexer": "ipython3",
   "version": "3.11.1"
  },
  "orig_nbformat": 4
 },
 "nbformat": 4,
 "nbformat_minor": 2
}
