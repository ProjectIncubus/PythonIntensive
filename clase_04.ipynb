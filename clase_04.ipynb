{
 "cells": [
  {
   "attachments": {},
   "cell_type": "markdown",
   "metadata": {},
   "source": [
    "### Condicionales"
   ]
  },
  {
   "cell_type": "code",
   "execution_count": 7,
   "metadata": {},
   "outputs": [
    {
     "name": "stdout",
     "output_type": "stream",
     "text": [
      "No se ejecuta la condicion del if\n"
     ]
    }
   ],
   "source": [
    "condicion = True\n",
    "\n",
    "if condicion:\n",
    "    print(\"Se ejecuta la condicion del if\")\n",
    "else:\n",
    "    print('No se ejecuta la condicion del if')\n",
    "\n",
    "otra_condicion = 10\n",
    "\n",
    "if otra_condicion == 10:\n",
    "    print('La variable vale 10')\n",
    "else:\n",
    "    print('La variable no vale 10')"
   ]
  },
  {
   "cell_type": "code",
   "execution_count": 16,
   "metadata": {},
   "outputs": [
    {
     "name": "stdout",
     "output_type": "stream",
     "text": [
      "0\n",
      "Sol\n"
     ]
    }
   ],
   "source": [
    "import random\n",
    "\n",
    "num = random.randint(0, 1)\n",
    "print(num)\n",
    "\n",
    "if num > 0.5:\n",
    "    print('Aguila')\n",
    "else:\n",
    "    print('Sol')"
   ]
  },
  {
   "cell_type": "code",
   "execution_count": 20,
   "metadata": {},
   "outputs": [
    {
     "name": "stdout",
     "output_type": "stream",
     "text": [
      "<class 'float'>\n",
      "Reprobaste.\n"
     ]
    }
   ],
   "source": [
    "calificacion = float(input('Que calificacion obtuviste?'))\n",
    "print(type(calificacion))\n",
    "\n",
    "if calificacion >= 70:\n",
    "    print('Aprobaste.')\n",
    "else:\n",
    "    print('Reprobaste.')"
   ]
  },
  {
   "cell_type": "code",
   "execution_count": 30,
   "metadata": {},
   "outputs": [
    {
     "name": "stdout",
     "output_type": "stream",
     "text": [
      "Error\n"
     ]
    }
   ],
   "source": [
    "ph = float(input('Ingresa el pH:'))\n",
    "\n",
    "if ph > 14:\n",
    "    print('Error')\n",
    "elif ph < 0:\n",
    "    print('Error')\n",
    "elif ph > 7:\n",
    "    print('Base')\n",
    "elif ph < 7:\n",
    "    print('Acido')\n",
    "else:\n",
    "    print('Neutro')"
   ]
  },
  {
   "attachments": {},
   "cell_type": "markdown",
   "metadata": {},
   "source": [
    "## Ciclos\n",
    "### While"
   ]
  },
  {
   "cell_type": "code",
   "execution_count": 38,
   "metadata": {},
   "outputs": [
    {
     "name": "stdout",
     "output_type": "stream",
     "text": [
      "0\n",
      "2\n",
      "4\n",
      "6\n",
      "8\n",
      "10\n",
      "Hola\n",
      "Termino el ciclo.\n"
     ]
    }
   ],
   "source": [
    "condicion = 0\n",
    "\n",
    "while condicion < 20:\n",
    "    print(condicion)\n",
    "    if condicion == 10:\n",
    "        print('Hola')\n",
    "        break\n",
    "    condicion += 2\n",
    "\n",
    "print('Termino el ciclo.')"
   ]
  },
  {
   "attachments": {},
   "cell_type": "markdown",
   "metadata": {},
   "source": [
    "### For"
   ]
  },
  {
   "cell_type": "code",
   "execution_count": 40,
   "metadata": {},
   "outputs": [
    {
     "name": "stdout",
     "output_type": "stream",
     "text": [
      "<class 'range'>\n",
      "0\n",
      "1\n",
      "2\n",
      "3\n",
      "4\n"
     ]
    }
   ],
   "source": [
    "for i in range(5):\n",
    "    print(i)"
   ]
  },
  {
   "cell_type": "code",
   "execution_count": 41,
   "metadata": {},
   "outputs": [
    {
     "name": "stdout",
     "output_type": "stream",
     "text": [
      "10\n",
      "20\n",
      "30\n",
      "40\n",
      "50\n"
     ]
    }
   ],
   "source": [
    "m = [10, 20, 30, 40, 50]\n",
    "\n",
    "for elemento in m:\n",
    "    print(elemento)"
   ]
  },
  {
   "cell_type": "code",
   "execution_count": 44,
   "metadata": {},
   "outputs": [
    {
     "name": "stdout",
     "output_type": "stream",
     "text": [
      "[3, 4, 1, 7, 9, 10, 13, 12]\n",
      "[0, 0, 0, 0, 0, 0, 0, 0]\n",
      "['Acido', 'Acido', 'Acido', 'Neutro', 'Base', 'Base', 'Base', 'Base']\n"
     ]
    }
   ],
   "source": [
    "ph = [3, 4, 1, 7, 9, 10, 13, 12]\n",
    "categoria = [0] * len(ph)\n",
    "\n",
    "print(ph)\n",
    "print(categoria)\n",
    "\n",
    "for i in range(len(ph)):\n",
    "    if ph[i] > 7:\n",
    "        categoria[i] = 'Base'\n",
    "    elif ph[i] < 7:\n",
    "        categoria[i] = 'Acido'\n",
    "    else:\n",
    "        categoria[i] = 'Neutro'\n",
    "\n",
    "print(categoria)"
   ]
  },
  {
   "cell_type": "code",
   "execution_count": 45,
   "metadata": {},
   "outputs": [
    {
     "name": "stdout",
     "output_type": "stream",
     "text": [
      "[5, 8, 11, 14, 17, 20, 23, 26, 29, 32, 35]\n"
     ]
    }
   ],
   "source": [
    "x = [0, 1, 2, 3, 4, 5, 6, 7, 8, 9, 10]\n",
    "y = [0] * len(x)\n",
    "\n",
    "# y = 3x+5\n",
    "\n",
    "for i in range(len(x)):\n",
    "    y[i] = 3 * x[i] + 5\n",
    "\n",
    "print(y)"
   ]
  },
  {
   "attachments": {},
   "cell_type": "markdown",
   "metadata": {},
   "source": [
    "### Ejercicio de validacion de contrasenia\n",
    "\n",
    "- Solicitarle al usuario una contrasenia.\n",
    "- La contraseña debe tener al menos 8 caracteres\n",
    "- No debe exceder 20 caracteres\n",
    "- Verificar que los caracteres sean alfanumericos (hint: contraseña.isalnum())\n",
    "- Verificar que la contraseña tiene al menos un numero (hint: contraseña.isdigit())"
   ]
  },
  {
   "cell_type": "code",
   "execution_count": 5,
   "metadata": {},
   "outputs": [
    {
     "name": "stdout",
     "output_type": "stream",
     "text": [
      "La contrasenia es valida.\n"
     ]
    }
   ],
   "source": [
    "contrasena = input('Ingresa una contrasenia:')\n",
    "\n",
    "if len(contrasena) < 8:\n",
    "    print('La contrasenia debe tener al menos 8 caracteres.')\n",
    "elif len(contrasena) > 20:\n",
    "    print('La contrasenia no puede tener mas de 20 caracteres.')\n",
    "else:\n",
    "    if not contrasena.isalnum():\n",
    "        print('La contrasenia solo puede contener caracteres alfanumericos.')\n",
    "    else:\n",
    "        tiene_num = False\n",
    "        for caracter in contrasena:\n",
    "            if caracter.isdigit():\n",
    "                tiene_num = True\n",
    "                break\n",
    "        if tiene_num == False:\n",
    "            print('La contrasenia debe contener al menos un numero.')\n",
    "        else:\n",
    "            print('La contrasenia es valida.')\n"
   ]
  },
  {
   "cell_type": "code",
   "execution_count": 6,
   "metadata": {},
   "outputs": [
    {
     "name": "stdout",
     "output_type": "stream",
     "text": [
      "Pin aceptado.\n"
     ]
    }
   ],
   "source": [
    "pin = input('Ingresa el pin:')\n",
    "\n",
    "pin_correcto = '1234'\n",
    "\n",
    "while pin != pin_correcto:\n",
    "    pin = input('Pin incorrecto. Intenta de nuevo:')\n",
    "\n",
    "print('Pin aceptado.')"
   ]
  },
  {
   "cell_type": "code",
   "execution_count": 7,
   "metadata": {},
   "outputs": [
    {
     "name": "stdout",
     "output_type": "stream",
     "text": [
      "python.org\n",
      "facebook.com\n",
      "wikipedia.com\n"
     ]
    }
   ],
   "source": [
    "links = [\n",
    "    'www.python.org',\n",
    "    'www.facebook.com',\n",
    "    'www.wikipedia.com'\n",
    "]\n",
    "\n",
    "for link in links:\n",
    "    print(link.replace('www.', ''))"
   ]
  }
 ],
 "metadata": {
  "kernelspec": {
   "display_name": "Python 3",
   "language": "python",
   "name": "python3"
  },
  "language_info": {
   "codemirror_mode": {
    "name": "ipython",
    "version": 3
   },
   "file_extension": ".py",
   "mimetype": "text/x-python",
   "name": "python",
   "nbconvert_exporter": "python",
   "pygments_lexer": "ipython3",
   "version": "3.11.1"
  },
  "orig_nbformat": 4
 },
 "nbformat": 4,
 "nbformat_minor": 2
}
