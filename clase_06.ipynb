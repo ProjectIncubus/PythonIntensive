{
 "cells": [
  {
   "attachments": {},
   "cell_type": "markdown",
   "metadata": {},
   "source": [
    "## Clases\n",
    "\n",
    "En Python, una clase es una estructura fundamental que permite definir un nuevo tipo de objeto. Una clase actúa como una plantilla o un plano que describe las propiedades (atributos) y los comportamientos (métodos) que tendrán los objetos creados a partir de ella.\n",
    "\n",
    "En términos más simples, una clase es como un molde para crear objetos. Define las características y las acciones que los objetos pueden tener. Los atributos representan las características o datos que tiene un objeto, mientras que los métodos son las funciones asociadas a ese objeto, que pueden realizar acciones o manipular los atributos.\n",
    "\n",
    "Al definir una clase, se especifican los atributos y los métodos que formarán parte de los objetos creados a partir de ella. Una vez que se ha definido una clase, se pueden crear múltiples instancias de esa clase, que son objetos individuales con sus propios valores de atributos y capacidades de ejecución de métodos.\n",
    "\n",
    "En resumen, una clase en Python proporciona una forma de encapsular datos y funcionalidades relacionadas en un único objeto. Permite organizar y estructurar el código de manera más modular y orientada a objetos, lo que facilita la reutilización, el mantenimiento y la comprensión del código."
   ]
  },
  {
   "cell_type": "code",
   "execution_count": 7,
   "metadata": {},
   "outputs": [],
   "source": [
    "# Definición de la clase \"Persona\".\n",
    "class Persona:\n",
    "    # Constructor de clase\n",
    "    def __init__(self, nombre, edad):\n",
    "        self.nombre = nombre # Estos son los atributos.\n",
    "        self.edad = edad\n",
    "# Es útil recordar que self.\"atributo\" se iguala al argumento dentro del\n",
    "# constructor __init__ al que queremos referenciar. El nombre del atributo\n",
    "# no necesariamente tiene que tener el mismo nombre que el argumento.\n",
    "    \n",
    "    # Método de instancia para saludar.\n",
    "    def saludar(self):\n",
    "        print('Hola, mi nombre es {} y tengo {} anios'.format(self.nombre, self.edad))\n",
    "\n",
    "# Ya definida la clase, podemos usarla para crear las instancias u objetos.\n",
    "persona1 = Persona('Juan', 25)\n",
    "persona2 = Persona('Hector', 30)"
   ]
  },
  {
   "attachments": {},
   "cell_type": "markdown",
   "metadata": {},
   "source": [
    "El parámetro self en Python se utiliza dentro de una clase para hacer referencia a la instancia actual de la clase. Permite acceder a los atributos y métodos de la instancia desde dentro de la misma clase.\n",
    "\n",
    "En el script de ejemplo que proporcioné, el parámetro self se utiliza en varios lugares:\n",
    "\n",
    "* En el constructor _ _ init _ _(self, nombre, edad): El primer parámetro self es una convención en Python para referirse a la instancia actual de la clase. En este caso, self se utiliza para asignar los valores de nombre y edad a los atributos de la instancia actual.\n",
    "\n",
    "* En el método saludar(self): Nuevamente, el parámetro self se utiliza para hacer referencia a la instancia actual. Dentro del método, se puede acceder a los atributos de la instancia utilizando self.nombre y self.edad para imprimir el saludo personalizado.\n",
    "\n",
    "* Cuando se llama a un método de una instancia, Python automáticamente pasa la referencia de la instancia actual como el primer argumento (self). Esto permite acceder a los atributos y métodos de la instancia dentro del método.\n",
    "\n",
    "En resumen, self es una convención utilizada en Python para referirse a la instancia actual de una clase. Es necesario incluir self como primer parámetro en los métodos de instancia para acceder a los atributos y métodos de la instancia."
   ]
  },
  {
   "cell_type": "code",
   "execution_count": 6,
   "metadata": {},
   "outputs": [
    {
     "name": "stdout",
     "output_type": "stream",
     "text": [
      "Juan\n",
      "25\n",
      "Hola, mi nombre es Juan y tengo 25 anios\n"
     ]
    }
   ],
   "source": [
    "# Aquí accedemos al atributo .nombre y .edad del objeto persona1 \n",
    "# que previamente ya instanciamos, o que ya creamos como objeto nuevo.\n",
    "print(persona1.nombre)\n",
    "print(persona1.edad)\n",
    "\n",
    "# Aquí usamos el método .saludar() para el objeto persona1.\n",
    "persona1.saludar()"
   ]
  },
  {
   "cell_type": "code",
   "execution_count": 9,
   "metadata": {},
   "outputs": [
    {
     "name": "stdout",
     "output_type": "stream",
     "text": [
      "Hector\n",
      "30\n",
      "Hola, mi nombre es Hector y tengo 30 anios\n"
     ]
    }
   ],
   "source": [
    "# Podemos hacer lo mismo para el objeto persona2.\n",
    "print(persona2.nombre)\n",
    "print(persona2.edad)\n",
    "\n",
    "persona2.saludar()\n",
    "\n",
    "# La ventaja de trabajar con clases es que podemos crear varios objetos\n",
    "# con la misma plantilla, sin necesidad de crear una lista o un diccionario\n",
    "# para cada uno."
   ]
  },
  {
   "attachments": {},
   "cell_type": "markdown",
   "metadata": {},
   "source": [
    "### Ejercicio: información de empleados y cálculo de aguinaldo."
   ]
  },
  {
   "cell_type": "code",
   "execution_count": 12,
   "metadata": {},
   "outputs": [],
   "source": [
    "# Definimos la clase Empleado.\n",
    "class Empleado:\n",
    "    # No olvidemos el constructor de clase con __init__.\n",
    "    def __init__(self, nombre, salario_diario):\n",
    "        # Definimos los atributos.\n",
    "        self.name = nombre\n",
    "        self.salario_dia = salario_diario\n",
    "\n",
    "    # El método mostrar_info() no requiere argumentos, pero hay que recordar\n",
    "    # que aún así debemos poner el self para indicar que nos estamos refiriendo\n",
    "    # al objeto que instanciemos.\n",
    "    def mostrar_info(self):\n",
    "        print('Nombre:', self.name)\n",
    "        print('Salario diario:', self.salario_dia)\n",
    "\n",
    "    # El método calcular_aguinaldo() tampoco requiere argumentos.\n",
    "    # Este método devolverá el atributo self.salario_dia multiplicado por 15.\n",
    "    def calcular_aguinaldo(self):\n",
    "        print('Aguinaldo:', self.salario_dia * 15)"
   ]
  },
  {
   "cell_type": "code",
   "execution_count": 13,
   "metadata": {},
   "outputs": [
    {
     "name": "stdout",
     "output_type": "stream",
     "text": [
      "Nombre: Fernando Lopez\n",
      "Salario diario: 500\n",
      "Aguinaldo: 7500\n"
     ]
    }
   ],
   "source": [
    "# Creamos el objeto con la clase Empleado.\n",
    "empleado1 = Empleado('Fernando Lopez', 500)\n",
    "# Podemos ahora utilizar los métodos definidos dentro de la clase\n",
    "# para el objeto que acabamos de instanciar.\n",
    "empleado1.mostrar_info()\n",
    "empleado1.calcular_aguinaldo()"
   ]
  },
  {
   "cell_type": "code",
   "execution_count": 17,
   "metadata": {},
   "outputs": [
    {
     "name": "stdout",
     "output_type": "stream",
     "text": [
      "Nombre: David\n",
      "Salario diario: 600\n",
      "Aguinaldo: 9000\n"
     ]
    }
   ],
   "source": [
    "# Podemos hacer lo mismo para otro empleado.\n",
    "empleado2 = Empleado('David', 600)\n",
    "empleado2.mostrar_info()\n",
    "empleado2.calcular_aguinaldo()"
   ]
  },
  {
   "attachments": {},
   "cell_type": "markdown",
   "metadata": {},
   "source": [
    "### Ejercicio: Sistema de gestión de biblioteca."
   ]
  },
  {
   "cell_type": "code",
   "execution_count": 19,
   "metadata": {},
   "outputs": [],
   "source": [
    "# Definimos la clase.\n",
    "class Libro:\n",
    "    # Definimos el constructor de la clase.\n",
    "    # El constructor se define, obviamente con el self (que es de cajón),\n",
    "    # y el título y autor del libro, así como establecer que hay disponibilidad\n",
    "    # del libro con el argumento diponible = True desde un inicio.\n",
    "    def __init__(self, titulo, autor, disponible=True):\n",
    "        self.titulo = titulo\n",
    "        self.autor = autor\n",
    "        self.disponible = disponible\n",
    "\n",
    "    # Método prestar.\n",
    "    def prestar(self):\n",
    "        if self.disponible: # Si el libro está disponible lo podemos prestar.\n",
    "            self.disponible = False # Cambiamos el atributo a False.\n",
    "            # Y desplegamos el mensaje.\n",
    "            print(\"El libro '{}' ha sido prestado.\".format(self.titulo))\n",
    "        else: # Si el libro no está disponible, no se puede prestar y mostramos\n",
    "              # el siguiente mensaje:\n",
    "            print(\"El libro '{}' no esta disponible para el prestamo.\".format(self.titulo))\n",
    "    \n",
    "    # Método devolver.\n",
    "    def devolver(self):\n",
    "        if not self.disponible: # Si el libro NO está disponible, podemos devolverlo.\n",
    "            self.disponible = True # Cambiamos el atributo a True\n",
    "            # Y desplegamos el mensaje.\n",
    "            print(\"El libro '{}' ha sido devuelto.\".format(self.titulo))\n",
    "        else: # Si el libro está disponible, no se puede devolver\n",
    "              # (no se puede devolver algo que ya está devuelto :P)\n",
    "            print(\"El libro '{}' ya se encuentra disponible.\".format(self.titulo))\n",
    "    \n",
    "    # Este método nos da la información del libro, así como su estado.\n",
    "    def info(self):\n",
    "        print('Titulo:', self.titulo)\n",
    "        print('Autor:', self.autor)\n",
    "        if self.disponible:\n",
    "            estado = 'Disponible'\n",
    "        else:\n",
    "            estado = 'No disponible'\n",
    "        print('Estado:', estado)"
   ]
  },
  {
   "cell_type": "code",
   "execution_count": 22,
   "metadata": {},
   "outputs": [
    {
     "name": "stdout",
     "output_type": "stream",
     "text": [
      "Titulo: 1984\n",
      "Autor: George Orwell\n",
      "Estado: Disponible\n",
      "Titulo: Cien anios de soledad\n",
      "Autor: Gabriel Garcia Marquez\n",
      "Estado: Disponible\n"
     ]
    }
   ],
   "source": [
    "# Ahora instanciamos un objeto con la clase que definimos\n",
    "libro1 = Libro('1984', 'George Orwell')\n",
    "libro1.info() # Vemos que el método .info() funciona.\n",
    "\n",
    "# Podemos hacerlo con otro libro.\n",
    "libro2 = Libro('Cien anios de soledad', 'Gabriel Garcia Marquez')\n",
    "libro2.info()\n"
   ]
  },
  {
   "cell_type": "code",
   "execution_count": 25,
   "metadata": {},
   "outputs": [
    {
     "name": "stdout",
     "output_type": "stream",
     "text": [
      "El libro '1984' ya se encuentra disponible.\n",
      "Titulo: 1984\n",
      "Autor: George Orwell\n",
      "Estado: Disponible\n",
      "El libro '1984' ha sido prestado.\n"
     ]
    }
   ],
   "source": [
    "# Ya instanciado el objeto podemos empezar a jugar con los métodos\n",
    "# que definimos en la clase.\n",
    "libro1.devolver()\n",
    "libro1.info()\n",
    "libro1.prestar()"
   ]
  },
  {
   "cell_type": "code",
   "execution_count": 26,
   "metadata": {},
   "outputs": [
    {
     "name": "stdout",
     "output_type": "stream",
     "text": [
      "El libro '1984' no esta disponible para el prestamo.\n"
     ]
    }
   ],
   "source": [
    "libro1.prestar()"
   ]
  },
  {
   "cell_type": "code",
   "execution_count": 27,
   "metadata": {},
   "outputs": [
    {
     "name": "stdout",
     "output_type": "stream",
     "text": [
      "El libro '1984' ha sido devuelto.\n",
      "Titulo: 1984\n",
      "Autor: George Orwell\n",
      "Estado: Disponible\n"
     ]
    }
   ],
   "source": [
    "libro1.devolver()\n",
    "libro1.info()"
   ]
  },
  {
   "cell_type": "code",
   "execution_count": 28,
   "metadata": {},
   "outputs": [
    {
     "name": "stdout",
     "output_type": "stream",
     "text": [
      "El libro 'Cien anios de soledad' ha sido prestado.\n",
      "Titulo: Cien anios de soledad\n",
      "Autor: Gabriel Garcia Marquez\n",
      "Estado: No disponible\n"
     ]
    }
   ],
   "source": [
    "libro2.prestar()\n",
    "libro2.info()"
   ]
  },
  {
   "cell_type": "code",
   "execution_count": 29,
   "metadata": {},
   "outputs": [
    {
     "name": "stdout",
     "output_type": "stream",
     "text": [
      "El libro 'Cien anios de soledad' ha sido devuelto.\n",
      "Titulo: Cien anios de soledad\n",
      "Autor: Gabriel Garcia Marquez\n",
      "Estado: Disponible\n"
     ]
    }
   ],
   "source": [
    "libro2.devolver()\n",
    "libro2.info()"
   ]
  },
  {
   "attachments": {},
   "cell_type": "markdown",
   "metadata": {},
   "source": [
    "### Ejercicio: Sistema de Gestion de Tienda\n",
    "\n",
    "A continuación te presento un ejercicio para que implementes un sistema de gestión de una tienda en Python. Tu objetivo es crear una clase llamada Producto que represente los productos de la tienda. La clase debe tener un constructor _ _ init _ _() que reciba los parámetros necesarios para inicializar cada producto, como el código, nombre, precio y cantidad. Además, la clase debe tener los siguientes métodos: mostrar_informacion(), que mostrará los detalles del producto; y vender(), que permitirá vender una cierta cantidad de unidades del producto, actualizando la cantidad disponible en consecuencia.\n",
    "\n",
    "Una vez que hayas definido la clase Producto, crea dos instancias de la misma, por ejemplo, producto1 y producto2, con información específica para cada uno. Luego, muestra la información de los productos utilizando el método mostrar_informacion(). Después, realiza algunas ventas utilizando el método vender(), especificando la cantidad de unidades a vender. Asegúrate de verificar si hay suficiente stock antes de realizar la venta y mostrar un mensaje apropiado.\n",
    "\n",
    "Finalmente, muestra la información actualizada de los productos después de las ventas.\n",
    "\n",
    "Recuerda que puedes utilizar los nombres de los productos, los precios y las cantidades que desees para personalizar tu tienda."
   ]
  },
  {
   "cell_type": "code",
   "execution_count": 30,
   "metadata": {},
   "outputs": [],
   "source": [
    "class Producto:\n",
    "    def __init__(self, codigo, nombre, precio, cantidad):\n",
    "        self.codigo = codigo\n",
    "        self.nombre = nombre\n",
    "        self.precio = precio\n",
    "        self.cantidad = cantidad\n",
    "\n",
    "    def info(self):\n",
    "        print('Codigo:', self.codigo)\n",
    "        print('Nombre:', self.nombre)\n",
    "        print('Precio:', self.precio)\n",
    "        print('Cantidad:', self.cantidad)\n",
    "\n",
    "    def vender(self, cantidad):\n",
    "        if cantidad <=self.cantidad:\n",
    "            self.cantidad -= cantidad\n",
    "            print('Se han vendido {} unidades de {}.'.format(cantidad, self.nombre))\n",
    "        else:\n",
    "            print('No hay suficiente stock de {}.'.format(self.nombre))"
   ]
  },
  {
   "cell_type": "code",
   "execution_count": 31,
   "metadata": {},
   "outputs": [
    {
     "name": "stdout",
     "output_type": "stream",
     "text": [
      "Codigo: P001\n",
      "Nombre: Camiseta\n",
      "Precio: 3\n",
      "Cantidad: 10\n"
     ]
    }
   ],
   "source": [
    "producto1 = Producto('P001', 'Camiseta', 3, 10)\n",
    "\n",
    "producto1.info()"
   ]
  },
  {
   "cell_type": "code",
   "execution_count": 32,
   "metadata": {},
   "outputs": [
    {
     "name": "stdout",
     "output_type": "stream",
     "text": [
      "Se han vendido 7 unidades de Camiseta.\n"
     ]
    }
   ],
   "source": [
    "producto1.vender(7)"
   ]
  },
  {
   "cell_type": "code",
   "execution_count": 33,
   "metadata": {},
   "outputs": [
    {
     "name": "stdout",
     "output_type": "stream",
     "text": [
      "Codigo: P001\n",
      "Nombre: Camiseta\n",
      "Precio: 3\n",
      "Cantidad: 3\n"
     ]
    }
   ],
   "source": [
    "producto1.info()"
   ]
  },
  {
   "cell_type": "code",
   "execution_count": 34,
   "metadata": {},
   "outputs": [
    {
     "name": "stdout",
     "output_type": "stream",
     "text": [
      "No hay suficiente stock de Camiseta.\n"
     ]
    }
   ],
   "source": [
    "producto1.vender(4)"
   ]
  }
 ],
 "metadata": {
  "kernelspec": {
   "display_name": "Python 3",
   "language": "python",
   "name": "python3"
  },
  "language_info": {
   "codemirror_mode": {
    "name": "ipython",
    "version": 3
   },
   "file_extension": ".py",
   "mimetype": "text/x-python",
   "name": "python",
   "nbconvert_exporter": "python",
   "pygments_lexer": "ipython3",
   "version": "3.11.1"
  },
  "orig_nbformat": 4
 },
 "nbformat": 4,
 "nbformat_minor": 2
}
