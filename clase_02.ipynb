{
 "cells": [
  {
   "attachments": {},
   "cell_type": "markdown",
   "metadata": {},
   "source": [
    "### String"
   ]
  },
  {
   "cell_type": "code",
   "execution_count": 1,
   "metadata": {},
   "outputs": [],
   "source": [
    "mi_string = 'Mi string'\n",
    "mi_otra_string = 'Otro string'"
   ]
  },
  {
   "cell_type": "code",
   "execution_count": 4,
   "metadata": {},
   "outputs": [
    {
     "name": "stdout",
     "output_type": "stream",
     "text": [
      "9\n",
      "11\n"
     ]
    }
   ],
   "source": [
    "print(len(mi_string)) # La función len nos devuelve la longitud del string.\n",
    "print(len(mi_otra_string))"
   ]
  },
  {
   "cell_type": "code",
   "execution_count": 6,
   "metadata": {},
   "outputs": [
    {
     "name": "stdout",
     "output_type": "stream",
     "text": [
      "Mi string Otro string\n"
     ]
    }
   ],
   "source": [
    "print(mi_string + ' ' + mi_otra_string) # Concatenar strings."
   ]
  },
  {
   "cell_type": "code",
   "execution_count": 7,
   "metadata": {},
   "outputs": [
    {
     "name": "stdout",
     "output_type": "stream",
     "text": [
      "Esta es una String\n",
      "con salto de linea\n"
     ]
    }
   ],
   "source": [
    "nueva_linea = 'Esta es una String\\ncon salto de linea' # Salto de línea.\n",
    "print(nueva_linea)"
   ]
  },
  {
   "cell_type": "code",
   "execution_count": 8,
   "metadata": {},
   "outputs": [
    {
     "name": "stdout",
     "output_type": "stream",
     "text": [
      "\tEsta es una string con tabulacion\n"
     ]
    }
   ],
   "source": [
    "tabulacion = '\\tEsta es una string con tabulacion' # Tabulación.\n",
    "print(tabulacion)"
   ]
  },
  {
   "cell_type": "code",
   "execution_count": 13,
   "metadata": {},
   "outputs": [
    {
     "name": "stdout",
     "output_type": "stream",
     "text": [
      "\\t\n"
     ]
    }
   ],
   "source": [
    "linea = '\\\\t' # Escapado de caracteres.\n",
    "print(linea)"
   ]
  },
  {
   "attachments": {},
   "cell_type": "markdown",
   "metadata": {},
   "source": [
    "### Formateo"
   ]
  },
  {
   "cell_type": "code",
   "execution_count": 16,
   "metadata": {},
   "outputs": [
    {
     "name": "stdout",
     "output_type": "stream",
     "text": [
      "Mi nombre es Gus Lopez y tengo  28 anios.\n",
      "Mi nombre es Gus Lopez y tengo 28 anios.\n",
      "Mi nombre es Gus Lopez y tengo 28 anios.\n"
     ]
    }
   ],
   "source": [
    "name, last_name, age = 'Gus', 'Lopez',  28\n",
    "\n",
    "print('Mi nombre es', name, last_name, 'y tengo ', age, 'anios.') # Formateo rebuscado, casi no se usa.\n",
    "\n",
    "print('Mi nombre es {} {} y tengo {} anios.'.format(name, last_name, age)) # El formateo más común.\n",
    "print(f'Mi nombre es {name} {last_name} y tengo {age} anios.') # Este formateo también se usa, aunque no es el más común."
   ]
  },
  {
   "cell_type": "code",
   "execution_count": 31,
   "metadata": {},
   "outputs": [
    {
     "name": "stdout",
     "output_type": "stream",
     "text": [
      "6\n",
      "p\n",
      "y\n",
      "t\n"
     ]
    }
   ],
   "source": [
    "lenguaje = 'python'\n",
    "print(len(lenguaje)) # Para desempaquetar strings, se debe conocer su longitud.\n",
    "\n",
    "a, b, c, d, e, f = lenguaje # Se desempaqueta y se almacena en variables correspondientes.\n",
    "\n",
    "print(a)\n",
    "print(b)\n",
    "print(c)"
   ]
  },
  {
   "attachments": {},
   "cell_type": "markdown",
   "metadata": {},
   "source": [
    "### Slicing"
   ]
  },
  {
   "cell_type": "code",
   "execution_count": 45,
   "metadata": {},
   "outputs": [
    {
     "name": "stdout",
     "output_type": "stream",
     "text": [
      "yt\n",
      "python\n",
      "yhn\n",
      "noht\n"
     ]
    }
   ],
   "source": [
    "slice_lenguaje = lenguaje[1:3] # Zero-indexed, exclusivo\n",
    "print(slice_lenguaje)\n",
    "\n",
    "slice_lenguaje = lenguaje[0:] # Indicamos el inicio del slice en el indice 0 y hasta el final del string.\n",
    "print(slice_lenguaje)\n",
    "\n",
    "slice_lenguaje = lenguaje[1:6:2] # Indicamos el inicio del slice en el indice 1 hasta el 6 sin incluirlo, con pasos de 2 en 2.\n",
    "print(slice_lenguaje)\n",
    "\n",
    "# Reversa\n",
    "reversa_lenguaje = lenguaje[5:1:-1] # Indicamos el inicio de la reversa en el indice 5 hasta el 1 sin incluirlo, con pasos negativos de -1, es decir, en reversa.\n",
    "print(reversa_lenguaje)"
   ]
  },
  {
   "cell_type": "code",
   "execution_count": 43,
   "metadata": {},
   "outputs": [
    {
     "name": "stdout",
     "output_type": "stream",
     "text": [
      "Python\n",
      "PYTHON\n",
      "1\n",
      "3\n",
      "PYthon\n",
      "True\n",
      "True\n"
     ]
    },
    {
     "data": {
      "text/plain": [
       "bool"
      ]
     },
     "execution_count": 43,
     "metadata": {},
     "output_type": "execute_result"
    }
   ],
   "source": [
    "string_var = 'www.python.org'\n",
    "\n",
    "# Algunas funciones útiles:\n",
    "\n",
    "print(lenguaje.capitalize()) # Vuelve el primer caracter en mayúsculas.\n",
    "print(lenguaje.upper()) # Todo el string a mayúsculas.\n",
    "print(lenguaje.count('p')) # Cuenta las ocurrencias de \"p\"\n",
    "print(string_var.count('w')) # Cuenta las ocurrencias de \"p\"\n",
    "print(lenguaje.replace('py', 'PY')) # Remplaza en la variable lenguaje \"py\" por \"PY\"\n",
    "print(lenguaje.startswith('py')) # Verifica si el string empieza con \"py\". Retorna un booleano.\n",
    "print(string_var.startswith('www.')) # Verifica si el string empieza con \"www.\". Retorna un booleano."
   ]
  }
 ],
 "metadata": {
  "kernelspec": {
   "display_name": "Python 3",
   "language": "python",
   "name": "python3"
  },
  "language_info": {
   "codemirror_mode": {
    "name": "ipython",
    "version": 3
   },
   "file_extension": ".py",
   "mimetype": "text/x-python",
   "name": "python",
   "nbconvert_exporter": "python",
   "pygments_lexer": "ipython3",
   "version": "3.11.1"
  },
  "orig_nbformat": 4
 },
 "nbformat": 4,
 "nbformat_minor": 2
}
