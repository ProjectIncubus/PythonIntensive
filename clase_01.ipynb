{
  "nbformat": 4,
  "nbformat_minor": 0,
  "metadata": {
    "colab": {
      "provenance": []
    },
    "kernelspec": {
      "name": "python3",
      "display_name": "Python 3"
    },
    "language_info": {
      "name": "python"
    }
  },
  "cells": [
    {
      "cell_type": "markdown",
      "source": [
        "### Introduccion a Python"
      ],
      "metadata": {
        "id": "zZ5UGGmOBpPq"
      }
    },
    {
      "cell_type": "code",
      "execution_count": 2,
      "metadata": {
        "colab": {
          "base_uri": "https://localhost:8080/"
        },
        "id": "VFKgD8wQ-EEN",
        "outputId": "5bab733d-dfc8-4e82-f13d-7cc4ff3dc87c"
      },
      "outputs": [
        {
          "output_type": "stream",
          "name": "stdout",
          "text": [
            "Hola, mundo\n",
            "Hola, mundo 2\n"
          ]
        }
      ],
      "source": [
        "# Este es mi primer programa de Python\n",
        "\n",
        "print('Hola, mundo') # Esta es una forma de imprimir mensajes, usando comillas simples.\n",
        "print(\"Hola, mundo 2\") # Esta es otra forma de imprimir mensajes, usando comillas dobles."
      ]
    },
    {
      "cell_type": "code",
      "source": [
        "# Funcion TYPE\n",
        "\n",
        "print(type('Hola, mundo')) # Nos permite conocer con que tipo de dato estamos trabajando, en este caso verificamos que\n",
        "                           # 'Hola, mundo' es un string."
      ],
      "metadata": {
        "colab": {
          "base_uri": "https://localhost:8080/"
        },
        "id": "ldeo0kv5CbtU",
        "outputId": "ebab3a90-d2bb-46fd-99e3-858cbf32f473"
      },
      "execution_count": 7,
      "outputs": [
        {
          "output_type": "stream",
          "name": "stdout",
          "text": [
            "<class 'str'>\n"
          ]
        }
      ]
    },
    {
      "cell_type": "markdown",
      "source": [
        "### Variables"
      ],
      "metadata": {
        "id": "2G8OAUPbDM7h"
      }
    },
    {
      "cell_type": "code",
      "source": [
        "# Python es un lenguaje de tipado dinamico\n",
        "\n",
        "variable = 'Mi Variable String' # Hay que tener cuidado porque, si bien aqui asignamos 'Mi Variable String'\n",
        "print(variable)                 # que es de tipo string a la variable llamada variable...\n",
        "variable = 5                    # Aqui le estamos asignando un valor tipo entero.\n",
        "print(variable)                 # A esta flexibilidad del lenguaje se le conoce como tipado dinamico."
      ],
      "metadata": {
        "colab": {
          "base_uri": "https://localhost:8080/"
        },
        "id": "vPGHgkAlDPcf",
        "outputId": "6eba3915-5374-4205-bc1b-b83d1c9116b9"
      },
      "execution_count": 10,
      "outputs": [
        {
          "output_type": "stream",
          "name": "stdout",
          "text": [
            "Mi Variable String\n",
            "5\n",
            "<class 'int'>\n"
          ]
        }
      ]
    },
    {
      "cell_type": "markdown",
      "source": [
        "### Tipos de Variable"
      ],
      "metadata": {
        "id": "SYTX13dJOBCA"
      }
    },
    {
      "cell_type": "code",
      "source": [
        "# Variables de tipo Entero\n",
        "variable_entera = 5\n",
        "print(type(variable_entera))"
      ],
      "metadata": {
        "colab": {
          "base_uri": "https://localhost:8080/"
        },
        "id": "BS-X_K63EJeO",
        "outputId": "9f2c2d66-94af-4fb0-8b6e-0e1019862935"
      },
      "execution_count": 11,
      "outputs": [
        {
          "output_type": "stream",
          "name": "stdout",
          "text": [
            "<class 'int'>\n"
          ]
        }
      ]
    },
    {
      "cell_type": "code",
      "source": [
        "# Variables de tipo flotante\n",
        "\n",
        "variable_flotante = 5.15\n",
        "print(type(variable_flotante))"
      ],
      "metadata": {
        "colab": {
          "base_uri": "https://localhost:8080/"
        },
        "id": "HYizdUflEO5M",
        "outputId": "71f0466f-210f-4bb9-840c-e177dab0d55b"
      },
      "execution_count": 12,
      "outputs": [
        {
          "output_type": "stream",
          "name": "stdout",
          "text": [
            "<class 'float'>\n"
          ]
        }
      ]
    },
    {
      "cell_type": "code",
      "source": [
        "# Variables de tipo booleano\n",
        "\n",
        "variable_booleana = True\n",
        "print(type(variable_booleana))\n",
        "variable_booleana_2 = False\n",
        "print(type(variable_booleana_2))"
      ],
      "metadata": {
        "colab": {
          "base_uri": "https://localhost:8080/"
        },
        "id": "KCchIRmKEejr",
        "outputId": "1093c82c-e45e-425b-8c43-fbff1596dfbb"
      },
      "execution_count": 15,
      "outputs": [
        {
          "output_type": "stream",
          "name": "stdout",
          "text": [
            "<class 'bool'>\n",
            "<class 'bool'>\n"
          ]
        }
      ]
    },
    {
      "cell_type": "code",
      "source": [
        "# La asignacion de variables se puede realizar de forma vertical:\n",
        "x = 40\n",
        "y = 30\n",
        "z = 10\n",
        "# O de forma horizontal:\n",
        "a, b, c = 3, 9, 15\n",
        "\n",
        "# Es cuestion de preferencia.\n",
        "\n",
        "# Aqui estamos concatenando variables:\n",
        "print(x, y, z)\n",
        "print(a, b, c)"
      ],
      "metadata": {
        "colab": {
          "base_uri": "https://localhost:8080/"
        },
        "id": "Ei_bD2oEFKsD",
        "outputId": "d4001ee8-396c-4ebc-a56e-c6650ed8de96"
      },
      "execution_count": 17,
      "outputs": [
        {
          "output_type": "stream",
          "name": "stdout",
          "text": [
            "40 30 10\n",
            "3 9 15\n"
          ]
        }
      ]
    },
    {
      "cell_type": "code",
      "source": [
        "mi_edad = 25\n",
        "\n",
        "# Aqui estamos concatenando un string, con una variable entera.\n",
        "print('Mi edad es', mi_edad)"
      ],
      "metadata": {
        "colab": {
          "base_uri": "https://localhost:8080/"
        },
        "id": "_rxYHTcLFna5",
        "outputId": "d3dad9a0-1534-4498-d23a-be4a76e4547b"
      },
      "execution_count": 49,
      "outputs": [
        {
          "output_type": "stream",
          "name": "stdout",
          "text": [
            "Mi edad es 25\n"
          ]
        }
      ]
    },
    {
      "cell_type": "code",
      "source": [
        "nombre = 'Gus Lopez'\n",
        "edad = 28\n",
        "\n",
        "print('Mi nombre es', nombre, 'y tengo', edad, 'anios.')"
      ],
      "metadata": {
        "colab": {
          "base_uri": "https://localhost:8080/"
        },
        "id": "7QjzMfodF09G",
        "outputId": "e3ad91bf-cdb5-49d7-a420-a3f8c00c350c"
      },
      "execution_count": 25,
      "outputs": [
        {
          "output_type": "stream",
          "name": "stdout",
          "text": [
            "Mi nombre es Gus Lopez y tengo 28 anios.\n"
          ]
        }
      ]
    },
    {
      "cell_type": "code",
      "source": [
        "# Inputs: nos sirven para que el usuario sea quien ingrese los valores de las variables.\n",
        "\n",
        "nombre_de_usuario = input('Ingresa tu nombre:')\n",
        "edad_del_usuario = input('Ingresa tu edad:')\n",
        "\n",
        "print('Mi nombre es', nombre_de_usuario, 'y tengo', edad_del_usuario, 'anios.')\n",
        "\n",
        "print(nombre_de_usuario)"
      ],
      "metadata": {
        "colab": {
          "base_uri": "https://localhost:8080/"
        },
        "id": "USs1LdeBGjyo",
        "outputId": "db953763-5721-4ab9-d566-a35fc4bc4e87"
      },
      "execution_count": 28,
      "outputs": [
        {
          "output_type": "stream",
          "name": "stdout",
          "text": [
            "Ingresa tu nombre:Gus Lopez\n",
            "Ingresa tu edad:28\n",
            "Mi nombre es Gus Lopez y tengo 28 anios.\n",
            "Gus Lopez\n"
          ]
        }
      ]
    },
    {
      "cell_type": "markdown",
      "source": [
        "### Operadores"
      ],
      "metadata": {
        "id": "lKi8KYYaHrAp"
      }
    },
    {
      "cell_type": "code",
      "source": [
        "# Estos son los operadores esenciales.\n",
        "\n",
        "print(3 + 3)\n",
        "print(3 - 3)\n",
        "print(3 * 3)\n",
        "print(10 / 3) # Division Normal\n",
        "print(10 // 3) # Division redondeada hacia abajo\n",
        "print(10 % 3) # Modulo: retorna el restante de la division\n",
        "print(3 ** 3)\n",
        "print(25 ** (1 / 2))"
      ],
      "metadata": {
        "colab": {
          "base_uri": "https://localhost:8080/"
        },
        "id": "1pPct8xjHc-6",
        "outputId": "b5edee31-6c3f-4c3e-9705-64175375aadd"
      },
      "execution_count": 38,
      "outputs": [
        {
          "output_type": "stream",
          "name": "stdout",
          "text": [
            "6\n",
            "0\n",
            "9\n",
            "3.3333333333333335\n",
            "3\n",
            "1\n",
            "27\n",
            "5.0\n"
          ]
        }
      ]
    },
    {
      "cell_type": "code",
      "source": [
        "# Se pueden realizar operaciones con strings? Si, pero solo estas:\n",
        "\n",
        "print('Hola '+'Python') # La suma de strings no es mas que una concatenacion de strings.\n",
        "print('Hola '+str(5)) # No se puede concatenar un string con un entero, por eso se añade la funcion str() que convierte el 5 en string.\n",
        "print('Hola' * 3) # Multiplicar un string por un entero hace que el string se repita. No se puede multiplicar string * float."
      ],
      "metadata": {
        "colab": {
          "base_uri": "https://localhost:8080/"
        },
        "id": "h52_CyniIlqh",
        "outputId": "711a536c-e339-4d11-b79c-ecdf9ecd7e07"
      },
      "execution_count": 51,
      "outputs": [
        {
          "output_type": "stream",
          "name": "stdout",
          "text": [
            "Hola Python\n",
            "Hola 5\n",
            "HolaHolaHola\n"
          ]
        }
      ]
    },
    {
      "cell_type": "code",
      "source": [
        "# Operadores comparativos\n",
        "#Los operadores comparativos arrojan valores booleanos.\n",
        "\n",
        "print(type(3 > 4))\n",
        "\n",
        "print(3 > 4)\n",
        "print(3 < 4)\n",
        "print(3 <= 4)\n",
        "print(3 >= 4)\n",
        "print(3 == 4)\n",
        "print(3 != 4)"
      ],
      "metadata": {
        "colab": {
          "base_uri": "https://localhost:8080/"
        },
        "id": "iFK7VCQOJKqx",
        "outputId": "95e26292-8ff0-4b46-9901-9525a1899d06"
      },
      "execution_count": 52,
      "outputs": [
        {
          "output_type": "stream",
          "name": "stdout",
          "text": [
            "<class 'bool'>\n",
            "False\n",
            "True\n",
            "True\n",
            "False\n",
            "False\n",
            "True\n"
          ]
        }
      ]
    }
  ]
}